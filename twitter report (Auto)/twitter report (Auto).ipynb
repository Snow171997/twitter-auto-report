{
 "cells": [
  {
   "cell_type": "code",
   "execution_count": null,
   "id": "72162b25",
   "metadata": {},
   "outputs": [],
   "source": [
    "filename = 'url.txt'#save those links in a single text file\n",
    "h = []\n",
    "with open(filename,'rb') as f:\n",
    "    x = f.read()\n",
    "x = x.decode('utf-8')\n",
    "h = x.split('\\r\\n')\n",
    "h"
   ]
  },
  {
   "cell_type": "code",
   "execution_count": null,
   "id": "16a1f000",
   "metadata": {},
   "outputs": [],
   "source": [
    "from selenium import webdriver\n",
    "from selenium.webdriver.common.by import By\n",
    "from selenium.webdriver.common.keys import Keys\n",
    "from selenium.webdriver.support.ui import WebDriverWait\n",
    "from selenium.webdriver.support import expected_conditions as EC\n",
    "import time\n",
    "import os\n",
    "def click_element(driver, xpath):\n",
    "    element = WebDriverWait(driver, 30).until(\n",
    "        EC.element_to_be_clickable((By.XPATH, xpath))\n",
    "    )\n",
    "    element.click()\n",
    "    time.sleep(3)\n",
    "\n",
    "def send_keys_element(driver, name, keys):\n",
    "    element = WebDriverWait(driver, 10).until(\n",
    "        EC.presence_of_element_located((By.NAME, name))\n",
    "    )\n",
    "    element.send_keys(keys)\n",
    "    element.send_keys(Keys.ENTER)\n",
    "    time.sleep(3)\n",
    "\n",
    "\n",
    "    \n",
    "\n",
    "# Initialize the webdriver\n",
    "driver = webdriver.Chrome()\n",
    "driver.maximize_window()\n",
    "\n",
    "# Log in\n",
    "driver.get(\"https://twitter.com/i/flow/login\")\n",
    "time.sleep(5)\n",
    "send_keys_element(driver, 'text', 'enter_your_username_here')\n",
    "send_keys_element(driver, 'password', 'enter_your_passwrod_here')\n",
    "\n",
    "##looping through urls\n",
    "for i in h:\n",
    "# Go to the profile you want to report\n",
    "    driver.get(i)\n",
    "    time.sleep(3)\n",
    "\n",
    "    # Report steps\n",
    "    click_element(driver, '/html/body//div[1]/div/div/div[2]/main/div/div/div/div/div/div[3]/div/div/div/div/div[1]/div[2]/div[1]/div')  \n",
    "    click_element(driver, '/html/body//div[1]/div/div/div[1]/div[2]/div/div/div/div[2]/div/div[3]/div/div/div/div[5]')\n",
    "    click_element(driver, '/html/body/div[1]/div/div/div[1]/div[2]/div/div/div/div/div/div[2]/div[2]/div/div/div[2]/div[2]/div[1]/div/div[2]/div/div/label[3]/div[1]/div[1]')\n",
    "    click_element(driver, '/html/body/div[1]/div/div/div[1]/div[2]/div/div/div/div/div/div[2]/div[2]/div/div/div[2]/div[2]/div[2]/div/div/div/div/div')\n",
    "    click_element(driver, '/html/body/div[1]/div/div/div[1]/div[2]/div/div/div/div/div/div[2]/div[2]/div/div/div[2]/div[2]/div[1]/div/div[2]/div/div/label[3]/div[1]/div[2]')\n",
    "    click_element(driver, '/html/body/div[1]/div/div/div[1]/div[2]/div/div/div/div/div/div[2]/div[2]/div/div/div[2]/div[2]/div[2]/div/div/div/div/div')\n",
    "\n",
    "    click_element(driver, '/html/body/div[1]/div/div/div[1]/div[2]/div/div/div/div/div/div[2]/div[2]/div/div/div[2]/div[2]/div[2]/div/div/div/div/div')"
   ]
  }
 ],
 "metadata": {
  "kernelspec": {
   "display_name": "Python 3 (ipykernel)",
   "language": "python",
   "name": "python3"
  },
  "language_info": {
   "codemirror_mode": {
    "name": "ipython",
    "version": 3
   },
   "file_extension": ".py",
   "mimetype": "text/x-python",
   "name": "python",
   "nbconvert_exporter": "python",
   "pygments_lexer": "ipython3",
   "version": "3.10.9"
  }
 },
 "nbformat": 4,
 "nbformat_minor": 5
}
